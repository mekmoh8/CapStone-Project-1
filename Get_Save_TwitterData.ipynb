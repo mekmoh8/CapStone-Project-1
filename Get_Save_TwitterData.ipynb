{
 "cells": [
  {
   "cell_type": "code",
   "execution_count": 8,
   "metadata": {},
   "outputs": [],
   "source": [
    "import tweepy, json "
   ]
  },
  {
   "cell_type": "code",
   "execution_count": 9,
   "metadata": {},
   "outputs": [],
   "source": [
    "consumer_key = 'XX'\n",
    "consumer_secret = 'XX'\n",
    "access_token = 'AA'\n",
    "access_token_secret = 'BB'"
   ]
  },
  {
   "cell_type": "code",
   "execution_count": 10,
   "metadata": {},
   "outputs": [],
   "source": [
    "import tweepy\n",
    "\n",
    "\n",
    "from textblob import TextBlob\n",
    "\n",
    "import time\n",
    "\n",
    "#import PrettyTable\n",
    "\n",
    "from datetime import datetime\n",
    "\n",
    "query = 'Bitcoin'\n",
    "\n",
    "auth = tweepy.OAuthHandler(consumer_key, consumer_secret)\n",
    "auth.set_access_token(access_token, access_token_secret)\n",
    "api = tweepy.API(auth)\n",
    "\n",
    "\n",
    "with open('2018_Apr_18_Tweets.json', 'a') as f:\n",
    "     for page in tweepy.Cursor(api.search, q = query, lang=\"en\", since='2018-01-01', until = '2018-04-19', count=200).pages(20):\n",
    "    \n",
    "        for tweet in page:\n",
    "\n",
    "            tweetid = tweet.id\n",
    "\n",
    "            tweetdate = datetime.strptime(str(tweet.created_at)[:10],'%Y-%m-%d').strftime('%d-%m-%Y')\n",
    "\n",
    "            tweettext = tweet.text\n",
    "\n",
    "                \n",
    "            json.dump(tweet._json, f)\n",
    "            f.write('\\n')\n",
    "\n",
    "       \n",
    "        time.sleep(65)\n",
    "\n",
    "\n"
   ]
  }
 ],
 "metadata": {
  "kernelspec": {
   "display_name": "Python 3",
   "language": "python",
   "name": "python3"
  },
  "language_info": {
   "codemirror_mode": {
    "name": "ipython",
    "version": 3
   },
   "file_extension": ".py",
   "mimetype": "text/x-python",
   "name": "python",
   "nbconvert_exporter": "python",
   "pygments_lexer": "ipython3",
   "version": "3.6.4"
  }
 },
 "nbformat": 4,
 "nbformat_minor": 2
}
