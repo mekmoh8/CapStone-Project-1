{
 "cells": [
  {
   "cell_type": "code",
   "execution_count": 7,
   "metadata": {},
   "outputs": [
    {
     "name": "stdout",
     "output_type": "stream",
     "text": [
      "Successfully wrote btc price\n"
     ]
    }
   ],
   "source": [
    "\n",
    "\n",
    "import requests\n",
    "\n",
    "\n",
    "\n",
    "\n",
    "\n",
    "def get_btc_info():\n",
    "\n",
    "    try:\n",
    "\n",
    "        url = 'https://api.cryptonator.com/api/ticker/btc-usd'\n",
    "\n",
    "        response = requests.get(url)\n",
    "\n",
    "        return response.text\n",
    "\n",
    "    except:\n",
    "\n",
    "        return None\n",
    "\n",
    "    \n",
    "\n",
    "\n",
    "\n",
    "def write_price_to_file(price, fname):\n",
    "\n",
    "    if price:\n",
    "\n",
    "        try:\n",
    "\n",
    "            with open(fname, 'a') as f:\n",
    "\n",
    "                f.write(price+\"\\n\")\n",
    "\n",
    "            print(\"Successfully wrote btc price\")\n",
    "\n",
    "        except:\n",
    "\n",
    "            print(\"Error writing price to '\" + fname + \"'\")\n",
    "\n",
    "    else:\n",
    "\n",
    "        print(\"No tweet to write\")\n",
    "\n",
    "  \n",
    "\n",
    "if __name__ == \"__main__\":          \n",
    "\n",
    "    p = get_btc_info()\n",
    "\n",
    "    write_price_to_file(p, 'prices.csv')"
   ]
  },
  {
   "cell_type": "code",
   "execution_count": 5,
   "metadata": {},
   "outputs": [
    {
     "ename": "NameError",
     "evalue": "name 'main' is not defined",
     "output_type": "error",
     "traceback": [
      "\u001b[1;31m---------------------------------------------------------------------------\u001b[0m",
      "\u001b[1;31mNameError\u001b[0m                                 Traceback (most recent call last)",
      "\u001b[1;32m<ipython-input-5-19b016818bc0>\u001b[0m in \u001b[0;36m<module>\u001b[1;34m()\u001b[0m\n\u001b[1;32m----> 1\u001b[1;33m \u001b[0mmain\u001b[0m\u001b[1;33m\u001b[0m\u001b[0m\n\u001b[0m",
      "\u001b[1;31mNameError\u001b[0m: name 'main' is not defined"
     ]
    }
   ],
   "source": []
  },
  {
   "cell_type": "code",
   "execution_count": null,
   "metadata": {},
   "outputs": [],
   "source": []
  }
 ],
 "metadata": {
  "kernelspec": {
   "display_name": "Python 3",
   "language": "python",
   "name": "python3"
  },
  "language_info": {
   "codemirror_mode": {
    "name": "ipython",
    "version": 3
   },
   "file_extension": ".py",
   "mimetype": "text/x-python",
   "name": "python",
   "nbconvert_exporter": "python",
   "pygments_lexer": "ipython3",
   "version": "3.6.4"
  }
 },
 "nbformat": 4,
 "nbformat_minor": 2
}
