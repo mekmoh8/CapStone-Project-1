{
 "cells": [
  {
   "cell_type": "code",
   "execution_count": 41,
   "metadata": {},
   "outputs": [
    {
     "name": "stdout",
     "output_type": "stream",
     "text": [
      "                Open      High       Low    Close  Volume (BTC)  \\\n",
      "Date                                                              \n",
      "2018-03-03  11032.81  11503.24  11022.85  11385.7   7654.693305   \n",
      "\n",
      "            Volume (Currency)  Weighted Price  \n",
      "Date                                           \n",
      "2018-03-03       8.673866e+07     11331.43559  \n",
      "Successfully wrote\n"
     ]
    }
   ],
   "source": [
    "import quandl\n",
    "quandl.ApiConfig.api_key = \"YSFT2ccFiRKCxRobPSiM\"\n",
    "\n",
    "\n",
    "def get_btc_info():\n",
    "\n",
    "    try:\n",
    "        t = quandl.get(\"BCHARTS/BITSTAMPUSD\",start_date=\"2018-03-03\",end_date=\"2018-03-03\",order=\"desc\")\n",
    "        \n",
    "        print(t)\n",
    "        return t\n",
    "\n",
    "    except:\n",
    "        return None\n",
    "\n",
    "\n",
    "def write_price_to_file(price):\n",
    "        try:\n",
    "            price.to_csv(\"BTC_PRICE.CSV\") \n",
    "            print(\"Successfully wrote\")\n",
    "        except IOError:\n",
    "            print('An error occured trying to read the file.')\n",
    "        except ValueError:\n",
    "            print('Non-numeric data found in the file.')\n",
    "        except ImportError:\n",
    "            print('NO module found')\n",
    "        except EOFError:\n",
    "            print('Why did you do an EOF on me?')\n",
    "        except KeyboardInterrupt:\n",
    "            print('You cancelled the operation.')\n",
    "    \n",
    "if __name__ == \"__main__\":          \n",
    "    \n",
    "    t = get_btc_info()\n",
    "\n",
    "    write_price_to_file(t)"
   ]
  },
  {
   "cell_type": "code",
   "execution_count": null,
   "metadata": {},
   "outputs": [],
   "source": []
  },
  {
   "cell_type": "code",
   "execution_count": null,
   "metadata": {},
   "outputs": [],
   "source": []
  }
 ],
 "metadata": {
  "kernelspec": {
   "display_name": "Python 3",
   "language": "python",
   "name": "python3"
  },
  "language_info": {
   "codemirror_mode": {
    "name": "ipython",
    "version": 3
   },
   "file_extension": ".py",
   "mimetype": "text/x-python",
   "name": "python",
   "nbconvert_exporter": "python",
   "pygments_lexer": "ipython3",
   "version": "3.6.4"
  }
 },
 "nbformat": 4,
 "nbformat_minor": 2
}
