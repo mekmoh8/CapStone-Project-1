{
 "cells": [
  {
   "cell_type": "code",
   "execution_count": 7,
   "metadata": {},
   "outputs": [
    {
     "name": "stdout",
     "output_type": "stream",
     "text": [
      "Successfully wrote btc price\n"
     ]
    }
   ],
   "source": [
    "\n",
    "\n",
    "import requests\n",
    "\n",
    "\n",
    "\n",
    "\n",
    "\n",
    "def get_btc_info():\n",
    "\n",
    "    try:\n",
    "\n",
    "        url = 'https://api.cryptonator.com/api/ticker/btc-usd'\n",
    "\n",
    "        response = requests.get(url)\n",
    "\n",
    "        return response.text\n",
    "\n",
    "    except:\n",
    "\n",
    "        return None\n",
    "\n",
    "    \n",
    "\n",
    "\n",
    "\n",
    "def write_price_to_file(price, fname):\n",
    "\n",
    "    if price:\n",
    "\n",
    "        try:\n",
    "\n",
    "            with open(fname, 'a') as f:\n",
    "\n",
    "                f.write(price+\"\\n\")\n",
    "\n",
    "            print(\"Successfully wrote btc price\")\n",
    "\n",
    "        except:\n",
    "\n",
    "            print(\"Error writing price to '\" + fname + \"'\")\n",
    "\n",
    "    else:\n",
    "\n",
    "        print(\"No tweet to write\")\n",
    "\n",
    "  \n",
    "\n",
    "if __name__ == \"__main__\":          \n",
    "\n",
    "    p = get_btc_info()\n",
    "\n",
    "    write_price_to_file(p, 'prices.csv')"
   ]
  }
 ],
 "metadata": {
  "kernelspec": {
   "display_name": "Python 3",
   "language": "python",
   "name": "python3"
  },
  "language_info": {
   "codemirror_mode": {
    "name": "ipython",
    "version": 3
   },
   "file_extension": ".py",
   "mimetype": "text/x-python",
   "name": "python",
   "nbconvert_exporter": "python",
   "pygments_lexer": "ipython3",
   "version": "3.6.4"
  }
 },
 "nbformat": 4,
 "nbformat_minor": 2
}
