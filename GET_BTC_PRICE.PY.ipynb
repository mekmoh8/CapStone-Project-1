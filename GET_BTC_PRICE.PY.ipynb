{
 "cells": [
  {
   "cell_type": "code",
   "execution_count": 154,
   "metadata": {},
   "outputs": [
    {
     "name": "stdout",
     "output_type": "stream",
     "text": [
      "               Close  Volume (BTC)\n",
      "Date                              \n",
      "2018-03-03  11445.00   7786.267540\n",
      "2018-03-02  11029.99   8329.097901\n",
      "2018-03-01  10903.13   9481.665146\n",
      "Correlation =  -0.876326984886548\n"
     ]
    },
    {
     "data": {
      "image/png": "[encoded data removed]",
      "text/plain": [
       "<matplotlib.figure.Figure at 0x24c7bab63c8>"
      ]
     },
     "metadata": {},
     "output_type": "display_data"
    }
   ],
   "source": [
    "import quandl\n",
    "import pandas as pd\n",
    "import matplotlib.pyplot as plt \n",
    "import csv\n",
    "quandl.ApiConfig.api_key = api_key\n",
    "\n",
    "\n",
    "\n",
    "def get_btc_info():\n",
    "\n",
    "    try:\n",
    "        t = quandl.get(\"BCHARTS/BITSTAMPUSD\",start_date=\"2018-03-01\",end_date=\"2018-03-03\",order=\"desc\")\n",
    "     \n",
    "        return t\n",
    "\n",
    "    except:\n",
    "        return None\n",
    "\n",
    "    \n",
    "def plot_btc_price():\n",
    "    \n",
    "\n",
    "        \n",
    "                plots = pd.read_csv(\"BTC_PRICE.CSV\")\n",
    "                plots['Date'] = pd.to_datetime(plots['Date'], format = '%Y-%m-%d')\n",
    "                plots.index = plots['Date']\n",
    "                del plots['Date']\n",
    "                del plots['Open']\n",
    "                del plots['High']\n",
    "                del plots['Low']\n",
    "                del plots['Volume (Currency)']\n",
    "                del plots['Weighted Price']\n",
    "                print (plots.head())\n",
    "                price=plots.plot()\n",
    "                price.set_xlabel(\"Date\")\n",
    "                price.set_ylabel(\"Closing Price\")\n",
    "                \n",
    "                mm = plots['Close'].corr(plots['Volume (BTC)'])\n",
    "                print(\"Correlation = \", mm)\n",
    "                \n",
    "                  \n",
    "    \n",
    "def write_price_to_file(price):\n",
    "        try:\n",
    "            price.to_csv(\"BTC_PRICE.CSV\") \n",
    "        except IOError:\n",
    "            print('An error occured trying to read the file.')\n",
    "        except ValueError:\n",
    "            print('Non-numeric data found in the file.')\n",
    "        except ImportError:\n",
    "            print('NO module found')\n",
    "        except EOFError:\n",
    "            print('Why did you do an EOF on me?')\n",
    "        except KeyboardInterrupt:\n",
    "            print('You cancelled the operation.')\n",
    "    \n",
    "    \n",
    "if __name__ == \"__main__\":          \n",
    "    \n",
    "    t = get_btc_info()\n",
    "\n",
    "    write_price_to_file(t)\n",
    "    \n",
    "    plot_btc_price()\n",
    "    \n",
    "    "
   ]
  },
  {
   "cell_type": "code",
   "execution_count": null,
   "metadata": {},
   "outputs": [],
   "source": []
  }
 ],
 "metadata": {
  "kernelspec": {
   "display_name": "Python 3",
   "language": "python",
   "name": "python3"
  },
  "language_info": {
   "codemirror_mode": {
    "name": "ipython",
    "version": 3
   },
   "file_extension": ".py",
   "mimetype": "text/x-python",
   "name": "python",
   "nbconvert_exporter": "python",
   "pygments_lexer": "ipython3",
   "version": "3.6.4"
  }
 },
 "nbformat": 4,
 "nbformat_minor": 2
}
